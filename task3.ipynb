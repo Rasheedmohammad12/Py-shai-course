{
  "cells": [
    {
      "cell_type": "code",
      "source": [
        "#Task: Write a function to count the number of vowels in a given string.\n",
        "\n",
        "\n",
        "def count_vowels(sss):\n",
        "  vowels = ('a','e','i','o')\n",
        "  vowel_count = 0\n",
        "  for i in sss:\n",
        "     if i in vowels:\n",
        "      vowel_count +=1\n",
        "  return vowel_count\n",
        "\n",
        "sss = (\"rasheed, mohammad, rasheed\")\n",
        "rr = count_vowels(sss)\n",
        "print(rr)"
      ],
      "metadata": {
        "id": "wjUl9WcKuXjp",
        "outputId": "ad5a17ee-a760-4e1d-d2fa-cc405db9e21d",
        "colab": {
          "base_uri": "https://localhost:8080/"
        }
      },
      "execution_count": null,
      "outputs": [
        {
          "output_type": "stream",
          "name": "stdout",
          "text": [
            "9\n"
          ]
        }
      ]
    },
    {
      "cell_type": "code",
      "source": [
        "#Task: Write a function that takes a string and returns the same string but with every second letter capitalized.\n",
        "def cap(strr):\n",
        "    ll = \"\"\n",
        "    for i, lh in enumerate(strr):\n",
        "        if i % 2 == 1:\n",
        "            ll += lh.upper()\n",
        "        else:\n",
        "            ll += lh\n",
        "    return ll\n",
        "\n",
        "\n",
        "strr = \"hello world\"\n",
        "oop = cap(strr)\n",
        "print(oop)\n"
      ],
      "metadata": {
        "id": "9c2B_ja_zgl4",
        "colab": {
          "base_uri": "https://localhost:8080/"
        },
        "outputId": "3cabce27-7dcb-4cc2-82b7-e233453fe54d"
      },
      "execution_count": null,
      "outputs": [
        {
          "output_type": "stream",
          "name": "stdout",
          "text": [
            "hElLo wOrLd\n"
          ]
        }
      ]
    },
    {
      "cell_type": "code",
      "source": [
        "#Task: Write a function that takes two sets and returns their intersection as a new set.\n",
        "\n",
        "def lol_so(moh,ra):\n",
        "\n",
        "  into_set = moh.intersection(ra)\n",
        "  return into_set\n",
        "moh = {1,2,3,4,5,6,7}\n",
        "ra = {2,7,10,50,4,1}\n",
        "rr = lol_so(moh , ra)\n",
        "print(rr)\n"
      ],
      "metadata": {
        "id": "mf6A0v7hZK8j",
        "outputId": "38fbbf57-cac7-44b1-cc32-e457c82702b2",
        "colab": {
          "base_uri": "https://localhost:8080/"
        }
      },
      "execution_count": null,
      "outputs": [
        {
          "output_type": "stream",
          "name": "stdout",
          "text": [
            "{1, 2, 4, 7}\n"
          ]
        }
      ]
    },
    {
      "cell_type": "code",
      "source": [
        "#Task: Write a function that takes two sets and returns their union as a new set.\n",
        "\n",
        "def so_lol(mor , ars):\n",
        "  oo_set = mor | ars\n",
        "  return oo_set\n",
        "mor = {5,6,8,0,4,2,1}\n",
        "ars = {7,10,3,2,9,1}\n",
        "loll = so_lol(moh , ars)\n",
        "print(loll)"
      ],
      "metadata": {
        "id": "vrr9EvlIeXxj",
        "outputId": "20e24dc0-2cf6-49f6-962e-0a6f56505974",
        "colab": {
          "base_uri": "https://localhost:8080/"
        }
      },
      "execution_count": null,
      "outputs": [
        {
          "output_type": "stream",
          "name": "stdout",
          "text": [
            "{1, 2, 3, 4, 5, 6, 7, 9, 10}\n"
          ]
        }
      ]
    },
    {
      "cell_type": "code",
      "source": [
        "#Task: Write a function that takes a list of tuples and sorts them based on the second element of each tuple.\n",
        "\n",
        "def top(tuple_list):\n",
        "  tp_list =sorted(tuple_list , key=lambda y: y[1])\n",
        "  return tp_list\n",
        "\n",
        "tuple_list = [(2,7),(5,3),(3,9),(6,1)]\n",
        "tpp_list = top(tuple_list)\n",
        "print(tpp_list)"
      ],
      "metadata": {
        "id": "xr-oYJCngVdR",
        "colab": {
          "base_uri": "https://localhost:8080/"
        },
        "outputId": "a0af342f-9d41-479c-f512-fd1c82ab935b"
      },
      "execution_count": null,
      "outputs": [
        {
          "output_type": "stream",
          "name": "stdout",
          "text": [
            "[(6, 1), (5, 3), (2, 7), (3, 9)]\n"
          ]
        }
      ]
    },
    {
      "cell_type": "code",
      "source": [
        "#Task: Write a function that takes a tuple and returns a reversed version of that tuple.\n",
        "def revv(mohha):\n",
        "    rasheed = mohha[::-1]\n",
        "    return rasheed\n",
        "\n",
        "tpppp = (1, 2, 3, 4, 5,7,8,9,11,31,12)\n",
        "rasheed = revv(tpppp)\n",
        "print(rasheed)"
      ],
      "metadata": {
        "colab": {
          "base_uri": "https://localhost:8080/"
        },
        "id": "SMN-cmrpe7ZJ",
        "outputId": "376cb2eb-9bdd-4d94-953f-b536292c7a65"
      },
      "execution_count": null,
      "outputs": [
        {
          "output_type": "stream",
          "name": "stdout",
          "text": [
            "(12, 31, 11, 9, 8, 7, 5, 4, 3, 2, 1)\n"
          ]
        }
      ]
    },
    {
      "cell_type": "code",
      "source": [
        "#Task: Write a function that takes a dictionary and returns the keys and values as separate lists.\n",
        "\n",
        "def dict (input_dict):\n",
        "    keys_list = list(input_dict.keys())\n",
        "    values_list = list(input_dict.values())\n",
        "    return keys_list, values_list\n",
        "\n",
        "\n",
        "my_dict = {'a': 1, 'b': 2, 'c': 3}\n",
        "keys, values = dict(my_dict)\n",
        "print(\"Keys:\", keys)\n",
        "print(\"Values:\", values)"
      ],
      "metadata": {
        "colab": {
          "base_uri": "https://localhost:8080/"
        },
        "id": "1BwQSBvbf_ub",
        "outputId": "7434fd0e-db77-4a09-9b5f-0206108d9939"
      },
      "execution_count": null,
      "outputs": [
        {
          "output_type": "stream",
          "name": "stdout",
          "text": [
            "Keys: ['a', 'b', 'c']\n",
            "Values: [1, 2, 3]\n"
          ]
        }
      ]
    },
    {
      "cell_type": "code",
      "source": [],
      "metadata": {
        "id": "dJMvoLurf_tb"
      },
      "execution_count": null,
      "outputs": []
    }
  ],
  "metadata": {
    "colab": {
      "provenance": []
    },
    "kernelspec": {
      "display_name": "Python 3",
      "name": "python3"
    }
  },
  "nbformat": 4,
  "nbformat_minor": 0
}